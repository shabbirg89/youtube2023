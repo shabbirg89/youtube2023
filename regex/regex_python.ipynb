{
 "cells": [
  {
   "cell_type": "code",
   "execution_count": 2,
   "metadata": {},
   "outputs": [],
   "source": [
    "import re"
   ]
  },
  {
   "cell_type": "code",
   "execution_count": null,
   "metadata": {},
   "outputs": [],
   "source": [
    "# Metacharacters: Special characters with a reserved meaning in regex, such as \".\", \"*\", \"+\", \"?\", etc.\n",
    "\n",
    "# Character Classes: Representing groups of characters, like digits (\\d), letters (\\w), spaces (\\s), etc.\n",
    "\n",
    "# Quantifiers: Indicating the number of occurrences of a preceding element, like \"*\", \"+\", \"{n}\", \"{m,n}\", etc.\n",
    "\n",
    "# Anchors: Marking the start (^) and end ($) of a string or line to be matched.\n",
    "\n",
    "# Groups and Capture: Using parentheses to group patterns and capture matched text."
   ]
  },
  {
   "cell_type": "code",
   "execution_count": null,
   "metadata": {},
   "outputs": [],
   "source": [
    "# re.search(pattern, string): Searches for the first occurrence of the pattern in the string.\n",
    "\n",
    "# re.match(pattern, string): Searches for the pattern only at the beginning of the string.\n",
    "\n",
    "# re.findall(pattern, string): Returns all occurrences of the pattern as a list of strings.\n",
    "\n",
    "# re.sub(pattern, replacement, string): Replaces all occurrences of the pattern with the replacement."
   ]
  },
  {
   "cell_type": "code",
   "execution_count": 4,
   "metadata": {},
   "outputs": [
    {
     "name": "stdout",
     "output_type": "stream",
     "text": [
      "<re.Match object; span=(16, 19), match='fox'>\n",
      "Found 'fox' at position 16 in the text.\n"
     ]
    }
   ],
   "source": [
    "# Sample text for demonstration\n",
    "text = \"The quick brown fox jumps over the lazy dog.\"\n",
    "\n",
    "# re.search(pattern, string)\n",
    "match = re.search(r\"fox\", text)\n",
    "print(match)\n",
    "if match:\n",
    "    print(f\"Found 'fox' at position {match.start()} in the text.\")\n",
    "else:\n",
    "    print(\"Pattern not found.\")"
   ]
  },
  {
   "cell_type": "code",
   "execution_count": 6,
   "metadata": {},
   "outputs": [
    {
     "name": "stdout",
     "output_type": "stream",
     "text": [
      "Pattern 'The' not found at the beginning of the text.\n"
     ]
    }
   ],
   "source": [
    "# re.match(pattern, string)\n",
    "match_at_start = re.match(r\"fox\", text)\n",
    "if match_at_start:\n",
    "    print(\"Pattern 'The' found at the beginning of the text.\")\n",
    "else:\n",
    "    print(\"Pattern 'The' not found at the beginning of the text.\")"
   ]
  },
  {
   "cell_type": "code",
   "execution_count": 7,
   "metadata": {},
   "outputs": [
    {
     "name": "stdout",
     "output_type": "stream",
     "text": [
      "All four-letter words: ['over', 'lazy']\n"
     ]
    }
   ],
   "source": [
    "# re.findall(pattern, string)\n",
    "all_occurrences = re.findall(r\"\\b\\w{4}\\b\", text)\n",
    "print(\"All four-letter words:\", all_occurrences)"
   ]
  },
  {
   "cell_type": "code",
   "execution_count": 8,
   "metadata": {},
   "outputs": [
    {
     "name": "stdout",
     "output_type": "stream",
     "text": [
      "Replaced text: The quick brown cat jumps over the lazy dog.\n"
     ]
    }
   ],
   "source": [
    "# re.sub(pattern, replacement, string)\n",
    "replaced_text = re.sub(r\"fox\", \"cat\", text)\n",
    "print(\"Replaced text:\", replaced_text)"
   ]
  },
  {
   "cell_type": "code",
   "execution_count": 17,
   "metadata": {},
   "outputs": [],
   "source": [
    "# Some examples where regex can be used"
   ]
  },
  {
   "cell_type": "code",
   "execution_count": 14,
   "metadata": {},
   "outputs": [
    {
     "name": "stdout",
     "output_type": "stream",
     "text": [
      "Valid email address.\n"
     ]
    }
   ],
   "source": [
    "def validate_email(email):\n",
    "    pattern = r'^[\\w\\.-]+@[a-zA-Z\\d\\.-]+\\.[a-zA-Z]{2,}$'\n",
    "    return re.match(pattern, email)\n",
    "\n",
    "# Test\n",
    "if validate_email(\"shabbir@email.com\"):\n",
    "    print(\"Valid email address.\")\n",
    "else:\n",
    "    print(\"Invalid email address.\")"
   ]
  },
  {
   "cell_type": "code",
   "execution_count": 15,
   "metadata": {},
   "outputs": [
    {
     "name": "stdout",
     "output_type": "stream",
     "text": [
      "['123-456-7890', '987.654.3210']\n"
     ]
    }
   ],
   "source": [
    "def extract_phone_numbers(text):\n",
    "    pattern = r'\\b\\d{3}[-.\\s]?\\d{3}[-.\\s]?\\d{4}\\b'\n",
    "    return re.findall(pattern, text)\n",
    "\n",
    "# Test\n",
    "text = \"Contact us at 123-456-7890 or 987.654.3210 for inquiries.\"\n",
    "print(extract_phone_numbers(text))"
   ]
  },
  {
   "cell_type": "code",
   "execution_count": 16,
   "metadata": {},
   "outputs": [
    {
     "name": "stdout",
     "output_type": "stream",
     "text": [
      "Invalid password.\n"
     ]
    }
   ],
   "source": [
    "# Data Validation:\n",
    "# Example: Validate a Password\n",
    "#This regex pattern ensures that the password contains at least one letter, one digit, and is at least 8 characters long.\n",
    "\n",
    "def validate_password(password):\n",
    "    pattern = r\"^(?=.*[A-Za-z])(?=.*\\d)[A-Za-z\\d]{8,}$\"\n",
    "    return re.match(pattern, password)\n",
    "\n",
    "# Test\n",
    "if validate_password(\"MyPassword\"):\n",
    "    print(\"Valid password.\")\n",
    "else:\n",
    "    print(\"Invalid password.\")"
   ]
  },
  {
   "cell_type": "code",
   "execution_count": 17,
   "metadata": {},
   "outputs": [
    {
     "name": "stdout",
     "output_type": "stream",
     "text": [
      "Contact us at (123) 456-7890 or 987-654-3210 for inquiries.\n"
     ]
    }
   ],
   "source": [
    "# Text Formatting:\n",
    "# Example: Format Phone Numbers\n",
    "#This regex pattern captures and groups digits in sets of three to reformat phone numbers with parentheses and dashes.\n",
    "\n",
    "def format_phone_numbers(text):\n",
    "    pattern = r\"\\b(\\d{3})(\\d{3})(\\d{4})\\b\"\n",
    "    return re.sub(pattern, r\"(\\1) \\2-\\3\", text)\n",
    "\n",
    "# Test\n",
    "text = \"Contact us at 1234567890 or 987-654-3210 for inquiries.\"\n",
    "formatted_text = format_phone_numbers(text)\n",
    "print(formatted_text)"
   ]
  },
  {
   "cell_type": "code",
   "execution_count": 18,
   "metadata": {},
   "outputs": [
    {
     "name": "stdout",
     "output_type": "stream",
     "text": [
      "Extracted URLs: ['https://www.example.com', 'http://blog.example.com']\n"
     ]
    }
   ],
   "source": [
    "# URL Extraction from Text:\n",
    "# Example: Extract URLs from a Web Page\n",
    "#This regex pattern captures URLs starting with \"http://\" or \"https://\" from the given text.\n",
    "def extract_urls(text):\n",
    "    pattern = r\"https?://\\S+\"\n",
    "    return re.findall(pattern, text)\n",
    "\n",
    "# Test\n",
    "text = \"Check out our website: https://www.example.com and our blog: http://blog.example.com\"\n",
    "urls = extract_urls(text)\n",
    "print(\"Extracted URLs:\", urls)"
   ]
  },
  {
   "cell_type": "code",
   "execution_count": 19,
   "metadata": {},
   "outputs": [
    {
     "name": "stdout",
     "output_type": "stream",
     "text": [
      "Extracted IP addresses: ['192.168.1.100']\n"
     ]
    }
   ],
   "source": [
    "# Data Extraction from Logs:\n",
    "# Example: Extract IP Addresses from Log\n",
    "# This regex pattern extracts IP addresses in the format \"X.X.X.X\" from a log entry.\n",
    "def extract_ip_addresses(log):\n",
    "    pattern = r\"\\d{1,3}\\.\\d{1,3}\\.\\d{1,3}\\.\\d{1,3}\"\n",
    "    return re.findall(pattern, log)\n",
    "\n",
    "# Test\n",
    "log = \"Access from IP 192.168.1.100 at 2023-07-29 10:00:00\"\n",
    "ip_addresses = extract_ip_addresses(log)\n",
    "print(\"Extracted IP addresses:\", ip_addresses)"
   ]
  },
  {
   "cell_type": "code",
   "execution_count": 20,
   "metadata": {},
   "outputs": [
    {
     "name": "stdout",
     "output_type": "stream",
     "text": [
      "Tokenized Sentences: ['Hello', 'How are you', \"I hope you're doing well.\"]\n"
     ]
    }
   ],
   "source": [
    "# Tokenization:\n",
    "# Example: Tokenize Sentences\n",
    "def tokenize_sentences(text):\n",
    "    pattern = r\"[.!?]\\s\"\n",
    "    return re.split(pattern, text)\n",
    "\n",
    "# Test\n",
    "text = \"Hello! How are you? I hope you're doing well.\"\n",
    "sentences = tokenize_sentences(text)\n",
    "print(\"Tokenized Sentences:\", sentences)"
   ]
  },
  {
   "cell_type": "code",
   "execution_count": 21,
   "metadata": {},
   "outputs": [
    {
     "name": "stdout",
     "output_type": "stream",
     "text": [
      "Clean Text: Hello, world!\n"
     ]
    }
   ],
   "source": [
    "# Removing HTML Tags:\n",
    "# Example: Remove HTML Tags from Text\n",
    "# This regex pattern removes all HTML tags from the given text.\n",
    "\n",
    "def remove_html_tags(text):\n",
    "    pattern = r\"<.*?>\"\n",
    "    return re.sub(pattern, \"\", text)\n",
    "\n",
    "# Test\n",
    "html_text = \"<p>Hello, <b>world</b>!</p>\"\n",
    "clean_text = remove_html_tags(html_text)\n",
    "print(\"Clean Text:\", clean_text)"
   ]
  },
  {
   "cell_type": "code",
   "execution_count": null,
   "metadata": {},
   "outputs": [],
   "source": []
  }
 ],
 "metadata": {
  "kernelspec": {
   "display_name": "Python 3",
   "language": "python",
   "name": "python3"
  },
  "language_info": {
   "codemirror_mode": {
    "name": "ipython",
    "version": 3
   },
   "file_extension": ".py",
   "mimetype": "text/x-python",
   "name": "python",
   "nbconvert_exporter": "python",
   "pygments_lexer": "ipython3",
   "version": "3.9.6"
  },
  "orig_nbformat": 4
 },
 "nbformat": 4,
 "nbformat_minor": 2
}
